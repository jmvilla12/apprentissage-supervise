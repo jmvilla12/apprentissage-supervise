{
 "cells": [
  {
   "cell_type": "markdown",
   "id": "25aad299",
   "metadata": {},
   "source": [
    "## TRNU.CSN: Supervised Classification TP1 2025\n",
    "\n",
    "Vincent Itier, Juan-Manuel Miramont"
   ]
  },
  {
   "cell_type": "markdown",
   "id": "dfc500f9",
   "metadata": {},
   "source": [
    "### Imports"
   ]
  },
  {
   "cell_type": "code",
   "execution_count": null,
   "id": "e3717f80",
   "metadata": {},
   "outputs": [
    {
     "ename": "",
     "evalue": "",
     "output_type": "error",
     "traceback": [
      "\u001b[1;31mRunning cells with 'Python 3.13.6' requires the ipykernel package.\n",
      "\u001b[1;31m<a href='command:jupyter.createPythonEnvAndSelectController'>Create a Python Environment</a> with the required packages.\n",
      "\u001b[1;31mOr install 'ipykernel' using the command: 'c:/Python313/python.exe -m pip install ipykernel -U --user --force-reinstall'"
     ]
    }
   ],
   "source": [
    "import numpy as np\n",
    "import pandas as pd\n",
    "import matplotlib.pyplot as plt\n",
    "import seaborn as sns\n",
    "#TODO ADD other needed libraries"
   ]
  },
  {
   "cell_type": "markdown",
   "id": "9663c31a",
   "metadata": {},
   "source": [
    "## Data Set Information\n",
    "\n",
    "This is perhaps the best known database to be found in the pattern recognition literature. Fisher’s\n",
    "paper is a classic in the field and is referenced frequently to this day. (See Duda & Hart, for\n",
    "example.) The data set contains 3 classes of 50 instances each, where each class refers to a type of\n",
    "iris plant. One class is linearly separable from the other 2; the latter are NOT linearly separable\n",
    "from each other. The predicted attribute (the output) is the class of iris plant.\n",
    "\n",
    "### Features Information\n",
    "\n",
    "1. sepal length in cm\n",
    "1. sepal width in cm\n",
    "1. petal length in cm\n",
    "1. petal width in cm\n",
    "1. classes: Iris Setosa, Iris Versicolour, Iris Virginica"
   ]
  },
  {
   "cell_type": "markdown",
   "id": "9c956dd3",
   "metadata": {},
   "source": [
    "## Exercises\n",
    "In this TP, you are supposed to play with different classification techniques.\n",
    "\n",
    "Objectives are: learning how to handle data for supervised classification, applying some well known ML methods and evaluate them. "
   ]
  },
  {
   "cell_type": "markdown",
   "id": "9840f120",
   "metadata": {},
   "source": [
    "### 1. Data visualisation\n",
    "1. Laod the 'iris.csv' file using the pandas librairy.\n",
    "1. Show the raw dataset using `head()`. \n",
    "1. Show data using `seaborn.pairplot`."
   ]
  },
  {
   "cell_type": "code",
   "execution_count": null,
   "id": "a79b52d3",
   "metadata": {},
   "outputs": [],
   "source": []
  },
  {
   "cell_type": "code",
   "execution_count": null,
   "id": "d996f1cb",
   "metadata": {},
   "outputs": [],
   "source": []
  },
  {
   "cell_type": "markdown",
   "id": "242ffe0b",
   "metadata": {},
   "source": [
    "### 2. Dataset preprocessing\n",
    "1. Make two numpy array $X$ and $y$, they contain respectively the set of feature vector and their label.\n",
    "1. Map label to integer using `LabelEncoder` from `sklearn.preprocessing`. Now you got the set of feature vector and their corresponding true label.\n",
    "1. T-distributed Stochastic Neighbor Embedding (t-SNE) is a machine learning algorithm for visualization. It can be used from `sklearn.manifold.TSNE`. Embed data (not label) into two dimension. Plot these points using their labels to color them. Change the perplexity parameter."
   ]
  },
  {
   "cell_type": "code",
   "execution_count": null,
   "id": "bd145e0a",
   "metadata": {},
   "outputs": [],
   "source": []
  },
  {
   "cell_type": "code",
   "execution_count": null,
   "id": "5b4662bc",
   "metadata": {},
   "outputs": [],
   "source": []
  },
  {
   "cell_type": "code",
   "execution_count": null,
   "id": "17855ddc",
   "metadata": {},
   "outputs": [],
   "source": []
  },
  {
   "cell_type": "markdown",
   "id": "3c8176c6",
   "metadata": {},
   "source": [
    "### 3. Classifier comparison. \n",
    "__Note__ that in this database, we do not have test data, so in order to validate the best classification technique (and the best parameters of the technique), we will use cross-validation techniques.\n",
    "\n",
    "1. From what we observe, we can think of using linear classifier such as `LinearDiscriminantAnalysis` from `sklearn.discriminant_analysis`. Use `KFold` from `sklearn.model_selection` to train and evaluate the classifier on 5 differents folds. For the evaluation, we will use the accuracy. Display and comment on the mean and standard deviation of the results.\n",
    "1. Make a function, `cross_val_acc_std` that is adapted from the previous code, we will use to compare different classifier.\n",
    "1. We observe that the linear classifier is not enough, make a list of different classifier `SVC` with an 'rbf' kernel, `QuadraticDiscriminantAnalysis`, `Perceptron`, use your function to evaluate them and plot the score using errorbars.\n",
    "\n",
    "__Note__ Once the models is validated, all the data can be used to train it."
   ]
  },
  {
   "cell_type": "code",
   "execution_count": null,
   "id": "f291f2e7",
   "metadata": {},
   "outputs": [],
   "source": []
  },
  {
   "cell_type": "code",
   "execution_count": null,
   "id": "3be81b03",
   "metadata": {},
   "outputs": [],
   "source": []
  },
  {
   "cell_type": "code",
   "execution_count": null,
   "id": "ca7efd4c",
   "metadata": {},
   "outputs": [],
   "source": []
  },
  {
   "cell_type": "code",
   "execution_count": null,
   "id": "678af4cf",
   "metadata": {},
   "outputs": [],
   "source": []
  },
  {
   "cell_type": "markdown",
   "id": "189da118",
   "metadata": {},
   "source": [
    "### 4. Decision Tree\n",
    "1. Split the dataset into training and test sets.\n",
    "1. Using `tree.DecisionTreeClassifier()` from scikit-learn, build a decision tree fitting your training set. We have studied information gain as splitting criterion. It can be used by setting the argument criterion.\n",
    "1. Predict the class of test samples.\n",
    "1. Test and comment DecisionTreeClassifier optional parameters, using `classification_report` from scikit-learn\n",
    "1. Plot confusion matrix"
   ]
  },
  {
   "cell_type": "code",
   "execution_count": null,
   "id": "086463c9",
   "metadata": {},
   "outputs": [],
   "source": []
  },
  {
   "cell_type": "code",
   "execution_count": null,
   "id": "db1271d1",
   "metadata": {},
   "outputs": [],
   "source": []
  },
  {
   "cell_type": "code",
   "execution_count": null,
   "id": "1416fcc8",
   "metadata": {},
   "outputs": [],
   "source": []
  },
  {
   "cell_type": "markdown",
   "id": "e1395de1",
   "metadata": {},
   "source": [
    "### 5. Tree Interpretation\n",
    "1. Show the decision tree using options such as `feature_names`, `class_names`, `filled` \\dots\n",
    "1. Using `feature_importances_` attribute from tree, show the most discriminative features.\n",
    "1. Plot the regions of decision between \"sepal_length\", \"sepal_width\", on a grid from 4 to 8.5 on x and from 1.5 to 4.5 on y axis, using `meshgrid()` from numpy. Add the points of the training set superimposed."
   ]
  },
  {
   "cell_type": "code",
   "execution_count": null,
   "id": "6912300b",
   "metadata": {},
   "outputs": [],
   "source": []
  },
  {
   "cell_type": "code",
   "execution_count": null,
   "id": "06956e9e",
   "metadata": {},
   "outputs": [],
   "source": []
  },
  {
   "cell_type": "code",
   "execution_count": null,
   "id": "80d982a5",
   "metadata": {},
   "outputs": [],
   "source": []
  }
 ],
 "metadata": {
  "kernelspec": {
   "display_name": "Python 3",
   "language": "python",
   "name": "python3"
  },
  "language_info": {
   "codemirror_mode": {
    "name": "ipython",
    "version": 3
   },
   "file_extension": ".py",
   "mimetype": "text/x-python",
   "name": "python",
   "nbconvert_exporter": "python",
   "pygments_lexer": "ipython3",
   "version": "3.13.6"
  }
 },
 "nbformat": 4,
 "nbformat_minor": 5
}
